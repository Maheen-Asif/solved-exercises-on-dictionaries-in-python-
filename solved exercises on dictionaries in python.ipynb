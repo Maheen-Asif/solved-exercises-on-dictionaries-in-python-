{
 "cells": [
  {
   "cell_type": "code",
   "execution_count": null,
   "id": "06ab1b72-1299-46e6-8896-2a4b00dff47f",
   "metadata": {},
   "outputs": [],
   "source": [
    "#name : Maheen Asif\n",
    "#reg no. : FA24-BBD-040"
   ]
  },
  {
   "cell_type": "code",
   "execution_count": null,
   "id": "cc4e5d7b-e736-4977-8ef1-7c4f27f412bd",
   "metadata": {},
   "outputs": [],
   "source": [
    "# solved esercise on dictionaries in python"
   ]
  },
  {
   "cell_type": "code",
   "execution_count": 43,
   "id": "62a588ca-e460-49d1-aa6f-8a40e2398105",
   "metadata": {},
   "outputs": [
    {
     "name": "stdout",
     "output_type": "stream",
     "text": [
      "{'name': 'Maheen Asif', 'age': 19, 'city': 'lahore', 'hobbies': ['reading', 'cooking', 'sleeping']}\n"
     ]
    }
   ],
   "source": [
    "#part a\n",
    "person_info = {\n",
    "    \"name\": \"Maheen Asif\",\n",
    "    \"age\": 19,\n",
    "    \"city\": \"lahore\",\n",
    "    \"hobbies\": [\"reading\", \"cooking\", \"sleeping\"]\n",
    "}\n",
    "\n",
    "print(person_info)\n"
   ]
  },
  {
   "cell_type": "code",
   "execution_count": 5,
   "id": "d35c665a-a0b9-43ae-bd93-015d70796721",
   "metadata": {},
   "outputs": [
    {
     "name": "stdout",
     "output_type": "stream",
     "text": [
      "Word frequencies:\n",
      "'dictionaries': 2\n",
      "'in': 2\n",
      "'python': 1\n",
      "'are': 2\n",
      "'unordered': 1\n",
      "'collections': 1\n",
      "'of': 1\n",
      "'data': 1\n",
      "'where': 1\n",
      "'each': 1\n",
      "'item': 1\n",
      "'is': 1\n",
      "'a': 1\n",
      "'key': 1\n",
      "'value': 1\n",
      "'pair': 1\n",
      "'mutable': 1\n",
      "'efficient': 1\n",
      "'and': 1\n",
      "'useful': 1\n",
      "'for': 1\n",
      "'solving': 1\n",
      "'various': 1\n",
      "'problems': 1\n",
      "'programming': 1\n"
     ]
    }
   ],
   "source": [
    "#part b\n",
    "def count_word_frequency(text):\n",
    "    \"\"\"\n",
    "    Count the frequency of words in a given text using a dictionary.\n",
    "    \"\"\"\n",
    "    text = ''.join(char.lower() if char.isalnum() or char.isspace() else ' ' for char in text)\n",
    "    words = text.split() \n",
    "    word_count = {}\n",
    "    for word in words:\n",
    "        if word in word_count:\n",
    "            word_count[word] += 1  \n",
    "        else:\n",
    "            word_count[word] = 1 \n",
    "\n",
    "    return word_count\n",
    "text_input = \"\"\"\n",
    "Dictionaries in Python are unordered collections of data, where each item is a key-value pair. \n",
    "Dictionaries are mutable, efficient, and useful for solving various problems in programming.\n",
    "\"\"\"\n",
    "word_frequencies = count_word_frequency(text_input)\n",
    "print(\"Word frequencies:\")\n",
    "for word, count in word_frequencies.items():\n",
    "    print(f\"'{word}': {count}\")\n"
   ]
  },
  {
   "cell_type": "code",
   "execution_count": 7,
   "id": "27470e10-52cc-4b2b-8893-7fec2eee6cfe",
   "metadata": {},
   "outputs": [
    {
     "name": "stdout",
     "output_type": "stream",
     "text": [
      "\n",
      "Inventory:\n",
      "Apple: 40 units\n",
      "Banana: 30 units\n",
      "Orange: 20 units\n"
     ]
    }
   ],
   "source": [
    "#part c\n",
    "inventory = {}\n",
    "def add_or_update_product(name, quantity):\n",
    "    \"\"\"\n",
    "    Adds a new product or updates the quantity of an existing product.\n",
    "    \"\"\"\n",
    "    if name in inventory:\n",
    "        inventory[name] += quantity  \n",
    "    else:\n",
    "        inventory[name] = quantity\n",
    "def display_inventory():\n",
    "    \"\"\"\n",
    "    Displays the inventory contents.\n",
    "    \"\"\"\n",
    "    print(\"\\nInventory:\")\n",
    "    if not inventory:\n",
    "        print(\"The inventory is empty.\")\n",
    "    else:\n",
    "        for product, quantity in inventory.items():\n",
    "            print(f\"{product}: {quantity} units\")\n",
    "\n",
    "\n",
    "add_or_update_product(\"Apple\", 50)  \n",
    "add_or_update_product(\"Banana\", 30)  \n",
    "add_or_update_product(\"Apple\", -10) \n",
    "add_or_update_product(\"Orange\", 20)  \n",
    "\n",
    "display_inventory()  \n"
   ]
  },
  {
   "cell_type": "code",
   "execution_count": 15,
   "id": "f04c0003-d438-4598-aa9d-bdbed381660d",
   "metadata": {},
   "outputs": [
    {
     "name": "stdout",
     "output_type": "stream",
     "text": [
      "Category Counts:\n",
      "Electronics: 3 orders\n",
      "Clothing: 3 orders\n",
      "Books: 1 orders\n",
      "\n",
      "The most popular category is 'Electronics' with 3 orders.\n"
     ]
    }
   ],
   "source": [
    "# part d\n",
    "\n",
    "def find_most_popular_category(orders):\n",
    "    \"\"\"\n",
    "    Analyze orders to find the most popular product category.\n",
    "    \"\"\"\n",
    "    category_count = {}\n",
    "    for order in orders:\n",
    "        category = order['category']\n",
    "        if category in category_count:\n",
    "            category_count[category] += 1\n",
    "        else:\n",
    "            category_count[category] = 1\n",
    "    most_popular = max(category_count, key=category_count.get)\n",
    "    return most_popular, category_count\n",
    "\n",
    "orders = [\n",
    "    {\"order_id\": 1, \"category\": \"Electronics\", \"product\": \"Laptop\"},\n",
    "    {\"order_id\": 2, \"category\": \"Clothing\", \"product\": \"T-Shirt\"},\n",
    "    {\"order_id\": 3, \"category\": \"Electronics\", \"product\": \"Smartphone\"},\n",
    "    {\"order_id\": 4, \"category\": \"Books\", \"product\": \"Fiction Novel\"},\n",
    "    {\"order_id\": 5, \"category\": \"Electronics\", \"product\": \"Headphones\"},\n",
    "    {\"order_id\": 6, \"category\": \"Clothing\", \"product\": \"Jeans\"},\n",
    "    {\"order_id\": 7, \"category\": \"Clothing\", \"product\": \"Jacket\"},\n",
    "]\n",
    "\n",
    "most_popular, category_counts = find_most_popular_category(orders)\n",
    "\n",
    "print(\"Category Counts:\")\n",
    "for category, count in category_counts.items():\n",
    "    print(f\"{category}: {count} orders\")\n",
    "\n",
    "print(f\"\\nThe most popular category is '{most_popular}' with {category_counts[most_popular]} orders.\")\n"
   ]
  },
  {
   "cell_type": "code",
   "execution_count": 17,
   "id": "4bd4ade3-88f2-438d-be4a-15889576d792",
   "metadata": {},
   "outputs": [
    {
     "name": "stdout",
     "output_type": "stream",
     "text": [
      "Student Grades:\n",
      "Aiza: 85\n",
      "fiza: 92\n",
      "hira: 78\n",
      "sara: 88\n",
      "esha: 95\n",
      "\n",
      "The average grade of the class is: 87.60\n"
     ]
    }
   ],
   "source": [
    "# part e\n",
    "student_grades = {\n",
    "    \"Aiza\": 85,\n",
    "    \"fiza\": 92,\n",
    "    \"hira\": 78,\n",
    "    \"sara\": 88,\n",
    "    \"esha\": 95\n",
    "}\n",
    "def calculate_average(grades):\n",
    "    total_grades = sum(grades.values())  \n",
    "    num_students = len(grades)  \n",
    "    average_grade = total_grades / num_students  \n",
    "    return average_grade\n",
    "average = calculate_average(student_grades)\n",
    "print(\"Student Grades:\")\n",
    "for student, grade in student_grades.items():\n",
    "    print(f\"{student}: {grade}\")\n",
    "\n",
    "print(f\"\\nThe average grade of the class is: {average:.2f}\")\n"
   ]
  },
  {
   "cell_type": "code",
   "execution_count": 25,
   "id": "840b621e-f362-4b78-87f9-0cc7a731bbff",
   "metadata": {},
   "outputs": [
    {
     "name": "stdout",
     "output_type": "stream",
     "text": [
      "Total Inventory Value: $69000.00\n",
      "\n",
      "Low-Stock Items:\n",
      "Smartphone: 30 units, Price: $600\n",
      "Tablet: 20 units, Price: $300\n"
     ]
    }
   ],
   "source": [
    "#part f\n",
    "inventory = {}\n",
    "def add_or_update_product(name, quantity, price):\n",
    "    \"\"\"\n",
    "    Adds a new product or updates the quantity and price of an existing product.\n",
    "    \"\"\"\n",
    "    if name in inventory:\n",
    "        inventory[name]['quantity'] += quantity  \n",
    "        inventory[name]['price'] = price  \n",
    "    else:\n",
    "        inventory[name] = {'quantity': quantity, 'price': price}  \n",
    "def update_quantity(name, quantity):\n",
    "    \"\"\"\n",
    "    Updates the quantity of an existing product.\n",
    "    \"\"\"\n",
    "    if name in inventory:\n",
    "        inventory[name]['quantity'] += quantity\n",
    "        if inventory[name]['quantity'] < 0:\n",
    "            inventory[name]['quantity'] = 0  \n",
    "    else:\n",
    "        print(f\"Product '{name}' does not exist in the inventory.\")\n",
    "def calculate_inventory_value():\n",
    "    \"\"\"\n",
    "    Calculates the total value of the inventory.\n",
    "    \"\"\"\n",
    "    total_value = 0\n",
    "    for product, details in inventory.items():\n",
    "        total_value += details['quantity'] * details['price']\n",
    "    return total_value\n",
    "def report_low_stock(threshold):\n",
    "    \"\"\"\n",
    "    Generates a report of products that have a quantity below the given threshold.\n",
    "    \"\"\"\n",
    "    low_stock_items = {}\n",
    "    for product, details in inventory.items():\n",
    "        if details['quantity'] < threshold:\n",
    "            low_stock_items[product] = details\n",
    "    return low_stock_items\n",
    "add_or_update_product(\"Laptop\", 50, 1000)  \n",
    "add_or_update_product(\"Smartphone\", 30, 600) \n",
    "add_or_update_product(\"Headphones\", 100, 50) \n",
    "\n",
    "update_quantity(\"Laptop\", -10)  \n",
    "add_or_update_product(\"Tablet\", 20, 300)  \n",
    "total_value = calculate_inventory_value()\n",
    "print(f\"Total Inventory Value: ${total_value:.2f}\")\n",
    "low_stock_report = report_low_stock(40)\n",
    "print(\"\\nLow-Stock Items:\")\n",
    "for product, details in low_stock_report.items():\n",
    "    print(f\"{product}: {details['quantity']} units, Price: ${details['price']}\")\n"
   ]
  },
  {
   "cell_type": "code",
   "execution_count": 35,
   "id": "17f3e435-a00b-4fdf-baed-b965dd29ae9c",
   "metadata": {},
   "outputs": [
    {
     "name": "stdout",
     "output_type": "stream",
     "text": [
      "Average grades for each student:\n",
      "iqra: 91.67\n",
      "ayesha: 87.67\n",
      "adan: 80.00\n",
      "eman: 75.00\n",
      "\n",
      "Highest grade in Math: 92 by iqra\n",
      "Lowest grade in Math: 70 by eman\n"
     ]
    }
   ],
   "source": [
    "# part g\n",
    "students = {\n",
    "    'ayesha': {'Math': 85, 'English': 90, 'Science': 88},\n",
    "    'adan': {'Math': 78, 'English': 82, 'Science': 80},\n",
    "    'iqra': {'Math': 92, 'English': 89, 'Science': 94},\n",
    "    'eman': {'Math': 70, 'English': 75, 'Science': 80},\n",
    "}\n",
    "def calculate_average(grades):\n",
    "    return sum(grades.values()) / len(grades)\n",
    "def find_highest_lowest(subject):\n",
    "    highest = None\n",
    "    lowest = None\n",
    "    highest_student = \"\"\n",
    "    lowest_student = \"\"\n",
    "    \n",
    "    for student, grades in students.items():\n",
    "        grade = grades.get(subject)\n",
    "        if grade is not None:\n",
    "            if highest is None or grade > highest:\n",
    "                highest = grade\n",
    "                highest_student = student\n",
    "            if lowest is None or grade < lowest:\n",
    "                lowest = grade\n",
    "                lowest_student = student\n",
    "                \n",
    "    return highest, highest_student, lowest, lowest_student\n",
    "students_avg = {student: calculate_average(grades) for student, grades in students.items()}\n",
    "sorted_students = sorted(students_avg.items(), key=lambda x: x[1], reverse=True)\n",
    "print(\"Average grades for each student:\")\n",
    "for student, avg in sorted_students:\n",
    "    print(f\"{student}: {avg:.2f}\")\n",
    "subject = 'Math'\n",
    "highest, highest_student, lowest, lowest_student = find_highest_lowest(subject)\n",
    "print(f\"\\nHighest grade in {subject}: {highest} by {highest_student}\")\n",
    "print(f\"Lowest grade in {subject}: {lowest} by {lowest_student}\")\n"
   ]
  },
  {
   "cell_type": "code",
   "execution_count": 39,
   "id": "220162ca-a52f-4868-a013-c59ba8c1851d",
   "metadata": {},
   "outputs": [
    {
     "name": "stdout",
     "output_type": "stream",
     "text": [
      "Added 2 Laptop(s) to the cart.\n",
      "Added 1 Phone(s) to the cart.\n",
      "Added 3 Headphones(s) to the cart.\n",
      "Total cost before discount and tax: $2950.00\n",
      "Total after 10% discount: $2655.00\n",
      "Total after 5% tax: $2787.75\n",
      "Removed 1 Phone(s) from the cart.\n",
      "Final total after removing product: $2450.00\n"
     ]
    }
   ],
   "source": [
    "# part h\n",
    "store = {\n",
    "    'Laptop': {'price': 1000, 'quantity': 5},\n",
    "    'Phone': {'price': 500, 'quantity': 10},\n",
    "    'Headphones': {'price': 150, 'quantity': 8},\n",
    "    'Tablet': {'price': 300, 'quantity': 6},\n",
    "}\n",
    "cart = {}\n",
    "def add_to_cart(product, quantity):\n",
    "    if product in store and store[product]['quantity'] >= quantity:\n",
    "        if product in cart:\n",
    "            cart[product] += quantity\n",
    "        else:\n",
    "            cart[product] = quantity\n",
    "        store[product]['quantity'] -= quantity\n",
    "        print(f\"Added {quantity} {product}(s) to the cart.\")\n",
    "    else:\n",
    "        print(f\"Sorry, we don't have enough {product}(s) in stock.\")\n",
    "def remove_from_cart(product, quantity):\n",
    "    if product in cart and cart[product] >= quantity:\n",
    "        cart[product] -= quantity\n",
    "        store[product]['quantity'] += quantity\n",
    "        if cart[product] == 0:\n",
    "            del cart[product]\n",
    "        print(f\"Removed {quantity} {product}(s) from the cart.\")\n",
    "    else:\n",
    "        print(f\"Either {product} is not in your cart or insufficient quantity.\")\n",
    "def calculate_total():\n",
    "    total = 0\n",
    "    for product, quantity in cart.items():\n",
    "        total += store[product]['price'] * quantity\n",
    "    return total\n",
    "def apply_discount(total, discount_percent):\n",
    "    return total * (1 - discount_percent / 100)\n",
    "\n",
    "def apply_tax(total, tax_percent):\n",
    "    return total * (1 + tax_percent / 100)\n",
    "add_to_cart('Laptop', 2)\n",
    "add_to_cart('Phone', 1)\n",
    "add_to_cart('Headphones', 3)\n",
    "total_cost = calculate_total()\n",
    "print(f\"Total cost before discount and tax: ${total_cost:.2f}\")\n",
    "total_cost = apply_discount(total_cost, 10)\n",
    "print(f\"Total after 10% discount: ${total_cost:.2f}\")\n",
    "total_cost = apply_tax(total_cost, 5)\n",
    "print(f\"Total after 5% tax: ${total_cost:.2f}\")\n",
    "remove_from_cart('Phone', 1)\n",
    "total_cost = calculate_total()\n",
    "print(f\"Final total after removing product: ${total_cost:.2f}\")\n"
   ]
  },
  {
   "cell_type": "code",
   "execution_count": null,
   "id": "93a044cf-8a1a-4b20-b333-e1c784876814",
   "metadata": {},
   "outputs": [],
   "source": []
  }
 ],
 "metadata": {
  "kernelspec": {
   "display_name": "Python 3 (ipykernel)",
   "language": "python",
   "name": "python3"
  },
  "language_info": {
   "codemirror_mode": {
    "name": "ipython",
    "version": 3
   },
   "file_extension": ".py",
   "mimetype": "text/x-python",
   "name": "python",
   "nbconvert_exporter": "python",
   "pygments_lexer": "ipython3",
   "version": "3.12.4"
  }
 },
 "nbformat": 4,
 "nbformat_minor": 5
}
